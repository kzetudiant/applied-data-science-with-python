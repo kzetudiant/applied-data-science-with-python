{
  "nbformat": 4,
  "nbformat_minor": 0,
  "metadata": {
    "colab": {
      "name": "Quiz_1.ipynb",
      "provenance": [],
      "collapsed_sections": [],
      "authorship_tag": "ABX9TyMDf5CiCQ1SpIiG2QSsVu3O",
      "include_colab_link": true
    },
    "kernelspec": {
      "name": "python3",
      "display_name": "Python 3"
    }
  },
  "cells": [
    {
      "cell_type": "markdown",
      "metadata": {
        "id": "view-in-github",
        "colab_type": "text"
      },
      "source": [
        "<a href=\"https://colab.research.google.com/github/kzetudiant/applied-data-science-with-python/blob/master/Quiz_1.ipynb\" target=\"_parent\"><img src=\"https://colab.research.google.com/assets/colab-badge.svg\" alt=\"Open In Colab\"/></a>"
      ]
    },
    {
      "cell_type": "code",
      "metadata": {
        "id": "fdvendIFqzE_",
        "outputId": "61c73cd8-a26e-40ad-ac61-bf6b1e40b952",
        "colab": {
          "base_uri": "https://localhost:8080/",
          "height": 34
        }
      },
      "source": [
        "import re\n",
        "string = 'bat, lat, mat, bet, let, met, bit, lit, mit, bot, lot, mot'\n",
        "result = re.findall('b[ao]t', string)\n",
        "print(result)"
      ],
      "execution_count": null,
      "outputs": [
        {
          "output_type": "stream",
          "text": [
            "['bat', 'bot']\n"
          ],
          "name": "stdout"
        }
      ]
    },
    {
      "cell_type": "code",
      "metadata": {
        "id": "jsM5749HrYly"
      },
      "source": [
        "import numpy as np\n",
        "\n",
        "def l2_dist(a, b):\n",
        "    result = ((a - b) * (a - b)).sum()\n",
        "    result = result ** 0.5\n",
        "    return result"
      ],
      "execution_count": null,
      "outputs": []
    },
    {
      "cell_type": "code",
      "metadata": {
        "id": "EB_N7BTecKYf",
        "outputId": "03b1cc5a-d83f-438a-ddc0-f3628a036885",
        "colab": {
          "base_uri": "https://localhost:8080/",
          "height": 341
        }
      },
      "source": [
        "l2_dist(np.reshape(a, (20 * 20)), np.reshape(b, (20 * 20 , 1)))\n",
        "# Error"
      ],
      "execution_count": null,
      "outputs": [
        {
          "output_type": "error",
          "ename": "ValueError",
          "evalue": "ignored",
          "traceback": [
            "\u001b[0;31m---------------------------------------------------------------------------\u001b[0m",
            "\u001b[0;31mValueError\u001b[0m                                Traceback (most recent call last)",
            "\u001b[0;32m<ipython-input-22-c02b3188ebb5>\u001b[0m in \u001b[0;36m<module>\u001b[0;34m()\u001b[0m\n\u001b[0;32m----> 1\u001b[0;31m \u001b[0ml2_dist\u001b[0m\u001b[0;34m(\u001b[0m\u001b[0mnp\u001b[0m\u001b[0;34m.\u001b[0m\u001b[0mreshape\u001b[0m\u001b[0;34m(\u001b[0m\u001b[0ma\u001b[0m\u001b[0;34m,\u001b[0m \u001b[0;34m(\u001b[0m\u001b[0;36m20\u001b[0m \u001b[0;34m*\u001b[0m \u001b[0;36m20\u001b[0m\u001b[0;34m)\u001b[0m\u001b[0;34m)\u001b[0m\u001b[0;34m,\u001b[0m \u001b[0mnp\u001b[0m\u001b[0;34m.\u001b[0m\u001b[0mreshape\u001b[0m\u001b[0;34m(\u001b[0m\u001b[0mb\u001b[0m\u001b[0;34m,\u001b[0m \u001b[0;34m(\u001b[0m\u001b[0;36m20\u001b[0m \u001b[0;34m*\u001b[0m \u001b[0;36m20\u001b[0m \u001b[0;34m,\u001b[0m \u001b[0;36m1\u001b[0m\u001b[0;34m)\u001b[0m\u001b[0;34m)\u001b[0m\u001b[0;34m)\u001b[0m\u001b[0;34m\u001b[0m\u001b[0;34m\u001b[0m\u001b[0m\n\u001b[0m",
            "\u001b[0;32m<__array_function__ internals>\u001b[0m in \u001b[0;36mreshape\u001b[0;34m(*args, **kwargs)\u001b[0m\n",
            "\u001b[0;32m/usr/local/lib/python3.6/dist-packages/numpy/core/fromnumeric.py\u001b[0m in \u001b[0;36mreshape\u001b[0;34m(a, newshape, order)\u001b[0m\n\u001b[1;32m    299\u001b[0m            [5, 6]])\n\u001b[1;32m    300\u001b[0m     \"\"\"\n\u001b[0;32m--> 301\u001b[0;31m     \u001b[0;32mreturn\u001b[0m \u001b[0m_wrapfunc\u001b[0m\u001b[0;34m(\u001b[0m\u001b[0ma\u001b[0m\u001b[0;34m,\u001b[0m \u001b[0;34m'reshape'\u001b[0m\u001b[0;34m,\u001b[0m \u001b[0mnewshape\u001b[0m\u001b[0;34m,\u001b[0m \u001b[0morder\u001b[0m\u001b[0;34m=\u001b[0m\u001b[0morder\u001b[0m\u001b[0;34m)\u001b[0m\u001b[0;34m\u001b[0m\u001b[0;34m\u001b[0m\u001b[0m\n\u001b[0m\u001b[1;32m    302\u001b[0m \u001b[0;34m\u001b[0m\u001b[0m\n\u001b[1;32m    303\u001b[0m \u001b[0;34m\u001b[0m\u001b[0m\n",
            "\u001b[0;32m/usr/local/lib/python3.6/dist-packages/numpy/core/fromnumeric.py\u001b[0m in \u001b[0;36m_wrapfunc\u001b[0;34m(obj, method, *args, **kwds)\u001b[0m\n\u001b[1;32m     59\u001b[0m \u001b[0;34m\u001b[0m\u001b[0m\n\u001b[1;32m     60\u001b[0m     \u001b[0;32mtry\u001b[0m\u001b[0;34m:\u001b[0m\u001b[0;34m\u001b[0m\u001b[0;34m\u001b[0m\u001b[0m\n\u001b[0;32m---> 61\u001b[0;31m         \u001b[0;32mreturn\u001b[0m \u001b[0mbound\u001b[0m\u001b[0;34m(\u001b[0m\u001b[0;34m*\u001b[0m\u001b[0margs\u001b[0m\u001b[0;34m,\u001b[0m \u001b[0;34m**\u001b[0m\u001b[0mkwds\u001b[0m\u001b[0;34m)\u001b[0m\u001b[0;34m\u001b[0m\u001b[0;34m\u001b[0m\u001b[0m\n\u001b[0m\u001b[1;32m     62\u001b[0m     \u001b[0;32mexcept\u001b[0m \u001b[0mTypeError\u001b[0m\u001b[0;34m:\u001b[0m\u001b[0;34m\u001b[0m\u001b[0;34m\u001b[0m\u001b[0m\n\u001b[1;32m     63\u001b[0m         \u001b[0;31m# A TypeError occurs if the object does have such a method in its\u001b[0m\u001b[0;34m\u001b[0m\u001b[0;34m\u001b[0m\u001b[0;34m\u001b[0m\u001b[0m\n",
            "\u001b[0;31mValueError\u001b[0m: cannot reshape array of size 2 into shape (400,)"
          ]
        }
      ]
    },
    {
      "cell_type": "code",
      "metadata": {
        "id": "-VSTHMtWcXrW"
      },
      "source": [
        "import numpy as np\n",
        "a1 = np.random.rand(4)\n",
        "a2 = np.random.rand(4, 1)\n",
        "a3 = np.array([[1, 2, 3, 4]])\n",
        "a4 = np.arange(1, 4, 1)\n",
        "a5 = np.linspace(1 ,4, 4)"
      ],
      "execution_count": null,
      "outputs": []
    },
    {
      "cell_type": "code",
      "metadata": {
        "id": "m8KPAudBcepa",
        "outputId": "3b105ff0-94ad-43e8-cdcf-efa3b99ea331",
        "colab": {
          "base_uri": "https://localhost:8080/",
          "height": 34
        }
      },
      "source": [
        "a3.shape == a4.shape"
      ],
      "execution_count": null,
      "outputs": [
        {
          "output_type": "execute_result",
          "data": {
            "text/plain": [
              "False"
            ]
          },
          "metadata": {
            "tags": []
          },
          "execution_count": 4
        }
      ]
    },
    {
      "cell_type": "code",
      "metadata": {
        "id": "wNijhRWYcsQY",
        "outputId": "bb2b3895-b652-4980-8fbd-64d24be21f2f",
        "colab": {
          "base_uri": "https://localhost:8080/",
          "height": 34
        }
      },
      "source": [
        "a5.shape == a1.shape"
      ],
      "execution_count": null,
      "outputs": [
        {
          "output_type": "execute_result",
          "data": {
            "text/plain": [
              "True"
            ]
          },
          "metadata": {
            "tags": []
          },
          "execution_count": 5
        }
      ]
    },
    {
      "cell_type": "code",
      "metadata": {
        "id": "t1El_ndkcuha",
        "outputId": "b292510d-8e57-4260-e1bb-040c5812f0e3",
        "colab": {
          "base_uri": "https://localhost:8080/",
          "height": 164
        }
      },
      "source": [
        "a4.ndim() == 1"
      ],
      "execution_count": null,
      "outputs": [
        {
          "output_type": "error",
          "ename": "TypeError",
          "evalue": "ignored",
          "traceback": [
            "\u001b[0;31m---------------------------------------------------------------------------\u001b[0m",
            "\u001b[0;31mTypeError\u001b[0m                                 Traceback (most recent call last)",
            "\u001b[0;32m<ipython-input-24-258a6f23ff35>\u001b[0m in \u001b[0;36m<module>\u001b[0;34m()\u001b[0m\n\u001b[0;32m----> 1\u001b[0;31m \u001b[0ma4\u001b[0m\u001b[0;34m.\u001b[0m\u001b[0mndim\u001b[0m\u001b[0;34m(\u001b[0m\u001b[0;34m)\u001b[0m \u001b[0;34m==\u001b[0m \u001b[0;36m1\u001b[0m\u001b[0;34m\u001b[0m\u001b[0;34m\u001b[0m\u001b[0m\n\u001b[0m",
            "\u001b[0;31mTypeError\u001b[0m: 'int' object is not callable"
          ]
        }
      ]
    },
    {
      "cell_type": "code",
      "metadata": {
        "id": "3I2vShCEcw0l",
        "outputId": "ef9383a0-c37d-4426-f144-8849578d1cfe",
        "colab": {
          "base_uri": "https://localhost:8080/",
          "height": 34
        }
      },
      "source": [
        "a1.shape == a2.shape"
      ],
      "execution_count": null,
      "outputs": [
        {
          "output_type": "execute_result",
          "data": {
            "text/plain": [
              "False"
            ]
          },
          "metadata": {
            "tags": []
          },
          "execution_count": 7
        }
      ]
    },
    {
      "cell_type": "markdown",
      "metadata": {
        "id": "JVkqdeXXdQHf"
      },
      "source": [
        "Q4. Which of the following is the correct output for the code given below?"
      ]
    },
    {
      "cell_type": "code",
      "metadata": {
        "id": "Ctn18fnEdRkA",
        "outputId": "f41291ae-dea8-41ec-e6c1-9c143502f212",
        "colab": {
          "base_uri": "https://localhost:8080/",
          "height": 51
        }
      },
      "source": [
        "import numpy as np\n",
        "\n",
        "old = np.array([[1, 1, 1], [1, 1, 1]])\n",
        "new = old\n",
        "new[0, :2] = 0\n",
        "print(old)"
      ],
      "execution_count": null,
      "outputs": [
        {
          "output_type": "stream",
          "text": [
            "[[0 0 1]\n",
            " [1 1 1]]\n"
          ],
          "name": "stdout"
        }
      ]
    },
    {
      "cell_type": "markdown",
      "metadata": {
        "id": "8xgXk6xhde3G"
      },
      "source": [
        "Q5. Given the 6x6 NumPy array r shown below, which of the following options would slice the shaded elements?\n",
        "\n",
        "![quiz1_q4.png](data:image/png;base64,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)"
      ]
    },
    {
      "cell_type": "code",
      "metadata": {
        "id": "Geqk5nHJdd2O",
        "outputId": "73869230-ec83-4812-bb33-a71a667953c9",
        "colab": {
          "base_uri": "https://localhost:8080/",
          "height": 51
        }
      },
      "source": [
        "r = np.array([[0,1,2,3,4,5],[6,7,8,9,10,11],[12,13,14,15,16,17],[18,19,20,21,22,23],[24,25,26,27,28,29],[30,31,32,33,34,35]])\n",
        "r[2:4,2:4]"
      ],
      "execution_count": null,
      "outputs": [
        {
          "output_type": "execute_result",
          "data": {
            "text/plain": [
              "array([[14, 15],\n",
              "       [20, 21]])"
            ]
          },
          "metadata": {
            "tags": []
          },
          "execution_count": 25
        }
      ]
    },
    {
      "cell_type": "code",
      "metadata": {
        "id": "3MwoaaE5iQ0y",
        "outputId": "da72a379-4911-49cc-81fa-9759edeaba99",
        "colab": {
          "base_uri": "https://localhost:8080/",
          "height": 34
        }
      },
      "source": [
        "import re\n",
        "s = 'ACBCAC'\n",
        "\n",
        "re.findall('^AC', s)"
      ],
      "execution_count": null,
      "outputs": [
        {
          "output_type": "execute_result",
          "data": {
            "text/plain": [
              "['AC']"
            ]
          },
          "metadata": {
            "tags": []
          },
          "execution_count": 2
        }
      ]
    },
    {
      "cell_type": "code",
      "metadata": {
        "id": "Uwif42gAi0nd",
        "outputId": "fd041df7-5ab8-4511-cebc-ff205af1defb",
        "colab": {
          "base_uri": "https://localhost:8080/",
          "height": 34
        }
      },
      "source": [
        "import re\n",
        "\n",
        "s = 'ACAABAACAAAB'\n",
        "result = re.findall('A{1,2}', s)\n",
        "L = len(result)\n",
        "print(L)"
      ],
      "execution_count": null,
      "outputs": [
        {
          "output_type": "stream",
          "text": [
            "5\n"
          ],
          "name": "stdout"
        }
      ]
    },
    {
      "cell_type": "code",
      "metadata": {
        "id": "1g3im1cdjDBK",
        "outputId": "4b17f148-512b-4e08-c983-33092af64e74",
        "colab": {
          "base_uri": "https://localhost:8080/",
          "height": 119
        }
      },
      "source": [
        "import re\n",
        "\n",
        "txt ='''Office of Research Administration: (734) 647-6333 | 4325 North Quad\n",
        "Office of Budget and Financial Administration: (734) 647-8044 | 309 Maynard, Suite 205\n",
        "Health Informatics Program: (734) 763-2285 | 333 Maynard, Suite 500\n",
        "Office of the Dean: (734) 647-3576 | 4322 North Quad\n",
        "UMSI Engagement Center: (734) 763-1251 | 777 North University\n",
        "Faculty Adminstrative Support Staff: (734) 764-9376 | 4322 North Quad'''\n",
        "\n",
        "re.findall('[(]\\d{3}[)]\\s\\d{3}[-]\\d{4}', txt)"
      ],
      "execution_count": null,
      "outputs": [
        {
          "output_type": "execute_result",
          "data": {
            "text/plain": [
              "['(734) 647-6333',\n",
              " '(734) 647-8044',\n",
              " '(734) 763-2285',\n",
              " '(734) 647-3576',\n",
              " '(734) 763-1251',\n",
              " '(734) 764-9376']"
            ]
          },
          "metadata": {
            "tags": []
          },
          "execution_count": 38
        }
      ]
    },
    {
      "cell_type": "code",
      "metadata": {
        "id": "JmVdti9nk4BP",
        "outputId": "1491cd60-f820-41ac-b91b-3cb047581aaf",
        "colab": {
          "base_uri": "https://localhost:8080/",
          "height": 34
        }
      },
      "source": [
        "txt2 = 'I refer to https://google.com and I never refer http://www.baidu.com if I have to search anything'\n",
        "\n",
        "re.findall('(?<=[https]:\\/\\/)([A-Za-z0-9.]*)', txt2)"
      ],
      "execution_count": null,
      "outputs": [
        {
          "output_type": "execute_result",
          "data": {
            "text/plain": [
              "['google.com', 'www.baidu.com']"
            ]
          },
          "metadata": {
            "tags": []
          },
          "execution_count": 41
        }
      ]
    },
    {
      "cell_type": "code",
      "metadata": {
        "id": "QQs4-WaAj8FP",
        "outputId": "616fbaf2-e630-42ed-d474-de6282c80946",
        "colab": {
          "base_uri": "https://localhost:8080/",
          "height": 34
        }
      },
      "source": [
        "text=r'''Everyone has the following fundamental freedoms:\n",
        "(a) freedom of conscience and religion;\n",
        "(b) freedom of thought, belief, opinion and expression, including freedom of the press and other media of communication;\n",
        "(c) freedom of peaceful assembly; and\n",
        "(d) freedom of association.\n",
        "'''\n",
        "\n",
        "import re\n",
        "\n",
        "pattern = '\\(.\\)'\n",
        "print(len(re.findall(pattern,text)))"
      ],
      "execution_count": null,
      "outputs": [
        {
          "output_type": "stream",
          "text": [
            "4\n"
          ],
          "name": "stdout"
        }
      ]
    }
  ]
}